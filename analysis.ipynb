{
 "cells": [
  {
   "cell_type": "code",
   "execution_count": 1,
   "metadata": {},
   "outputs": [],
   "source": [
    "import numpy as np\n",
    "import pandas as pd\n",
    "import os\n",
    "from sklearn.cluster import KMeans\n",
    "from matplotlib import pyplot as plt"
   ]
  },
  {
   "cell_type": "code",
   "execution_count": 2,
   "metadata": {},
   "outputs": [],
   "source": [
    "from fx_analysis import reer_vol, imf_import, import_imf_dic"
   ]
  },
  {
   "cell_type": "markdown",
   "metadata": {},
   "source": [
    "### Importing the data"
   ]
  },
  {
   "cell_type": "code",
   "execution_count": 3,
   "metadata": {},
   "outputs": [],
   "source": [
    "os.chdir('/Users/talespadilha/Dropbox/Soft Power and FX Prediction/Data')\n",
    "df0 = pd.read_csv('sub_indices.csv', header = [0,1], index_col = [0], parse_dates=True)\n",
    "sub_indices = df0.loc[:'2019-01-01']\n",
    "latest = sub_indices.iloc[-1]\n",
    "sub_latest = latest.unstack('subindex').dropna(how='any')"
   ]
  },
  {
   "cell_type": "code",
   "execution_count": 4,
   "metadata": {},
   "outputs": [],
   "source": [
    "index = pd.read_csv('index.csv', header = [0], index_col = [0], parse_dates=True)\n",
    "idx_latest = index.iloc[-1]"
   ]
  },
  {
   "cell_type": "markdown",
   "metadata": {},
   "source": [
    "### Clustering Subindices"
   ]
  },
  {
   "cell_type": "code",
   "execution_count": 5,
   "metadata": {},
   "outputs": [
    {
     "data": {
      "text/plain": [
       "[<matplotlib.lines.Line2D at 0x7f940290d5d0>]"
      ]
     },
     "execution_count": 5,
     "metadata": {},
     "output_type": "execute_result"
    },
    {
     "data": {
      "image/png": "[encoded data removed]",
      "text/plain": [
       "<Figure size 432x288 with 1 Axes>"
      ]
     },
     "metadata": {
      "needs_background": "light"
     },
     "output_type": "display_data"
    }
   ],
   "source": [
    "k_range = range(1,11)\n",
    "sse = []\n",
    "for k in k_range:\n",
    "    km = KMeans(n_clusters=k)\n",
    "    km.fit(sub_latest)\n",
    "    sse.append(km.inertia_)\n",
    "plt.xlabel('K')\n",
    "plt.ylabel('SSEs')\n",
    "plt.plot(k_range, sse)"
   ]
  },
  {
   "cell_type": "markdown",
   "metadata": {},
   "source": [
    "Estimating the model with optimal K:"
   ]
  },
  {
   "cell_type": "code",
   "execution_count": 6,
   "metadata": {},
   "outputs": [
    {
     "data": {
      "text/html": [
       "<div>\n",
       "<style scoped>\n",
       "    .dataframe tbody tr th:only-of-type {\n",
       "        vertical-align: middle;\n",
       "    }\n",
       "\n",
       "    .dataframe tbody tr th {\n",
       "        vertical-align: top;\n",
       "    }\n",
       "\n",
       "    .dataframe thead th {\n",
       "        text-align: right;\n",
       "    }\n",
       "</style>\n",
       "<table border=\"1\" class=\"dataframe\">\n",
       "  <thead>\n",
       "    <tr style=\"text-align: right;\">\n",
       "      <th>subindex</th>\n",
       "      <th>comercial</th>\n",
       "      <th>culture</th>\n",
       "      <th>digital</th>\n",
       "      <th>education</th>\n",
       "      <th>global_reach</th>\n",
       "      <th>institutions</th>\n",
       "      <th>cluster</th>\n",
       "    </tr>\n",
       "    <tr>\n",
       "      <th>country</th>\n",
       "      <th></th>\n",
       "      <th></th>\n",
       "      <th></th>\n",
       "      <th></th>\n",
       "      <th></th>\n",
       "      <th></th>\n",
       "      <th></th>\n",
       "    </tr>\n",
       "  </thead>\n",
       "  <tbody>\n",
       "    <tr>\n",
       "      <th>ALB</th>\n",
       "      <td>-0.022275</td>\n",
       "      <td>-0.001080</td>\n",
       "      <td>-0.107797</td>\n",
       "      <td>-0.532450</td>\n",
       "      <td>0.007836</td>\n",
       "      <td>-0.170469</td>\n",
       "      <td>0</td>\n",
       "    </tr>\n",
       "    <tr>\n",
       "      <th>ARG</th>\n",
       "      <td>-0.032280</td>\n",
       "      <td>0.361190</td>\n",
       "      <td>0.418772</td>\n",
       "      <td>-0.672538</td>\n",
       "      <td>0.135909</td>\n",
       "      <td>-0.210682</td>\n",
       "      <td>0</td>\n",
       "    </tr>\n",
       "    <tr>\n",
       "      <th>AUS</th>\n",
       "      <td>0.520881</td>\n",
       "      <td>0.874991</td>\n",
       "      <td>0.386663</td>\n",
       "      <td>1.651744</td>\n",
       "      <td>0.317083</td>\n",
       "      <td>1.327427</td>\n",
       "      <td>1</td>\n",
       "    </tr>\n",
       "    <tr>\n",
       "      <th>AUT</th>\n",
       "      <td>0.685246</td>\n",
       "      <td>0.493211</td>\n",
       "      <td>0.534771</td>\n",
       "      <td>1.113295</td>\n",
       "      <td>0.171318</td>\n",
       "      <td>1.301079</td>\n",
       "      <td>1</td>\n",
       "    </tr>\n",
       "    <tr>\n",
       "      <th>AZE</th>\n",
       "      <td>0.164170</td>\n",
       "      <td>-0.045553</td>\n",
       "      <td>0.241126</td>\n",
       "      <td>-0.874079</td>\n",
       "      <td>0.046039</td>\n",
       "      <td>-0.537509</td>\n",
       "      <td>0</td>\n",
       "    </tr>\n",
       "  </tbody>\n",
       "</table>\n",
       "</div>"
      ],
      "text/plain": [
       "subindex  comercial   culture   digital  education  global_reach  \\\n",
       "country                                                            \n",
       "ALB       -0.022275 -0.001080 -0.107797  -0.532450      0.007836   \n",
       "ARG       -0.032280  0.361190  0.418772  -0.672538      0.135909   \n",
       "AUS        0.520881  0.874991  0.386663   1.651744      0.317083   \n",
       "AUT        0.685246  0.493211  0.534771   1.113295      0.171318   \n",
       "AZE        0.164170 -0.045553  0.241126  -0.874079      0.046039   \n",
       "\n",
       "subindex  institutions  cluster  \n",
       "country                          \n",
       "ALB          -0.170469        0  \n",
       "ARG          -0.210682        0  \n",
       "AUS           1.327427        1  \n",
       "AUT           1.301079        1  \n",
       "AZE          -0.537509        0  "
      ]
     },
     "execution_count": 6,
     "metadata": {},
     "output_type": "execute_result"
    }
   ],
   "source": [
    "km = KMeans(n_clusters=4)\n",
    "clusters = km.fit_predict(sub_latest)\n",
    "sub_latest['cluster'] = clusters\n",
    "sub_latest.head()"
   ]
  },
  {
   "cell_type": "code",
   "execution_count": 7,
   "metadata": {},
   "outputs": [
    {
     "name": "stdout",
     "output_type": "stream",
     "text": [
      "Countries in 0\n",
      "Index(['ALB', 'ARG', 'AZE', 'BGR', 'BLR', 'BRA', 'CHL', 'COL', 'CRI', 'DOM',\n",
      "       'DZA', 'IDN', 'JOR', 'KAZ', 'LBN', 'MAR', 'MDA', 'MEX', 'MLT', 'MYS',\n",
      "       'PAN', 'PER', 'PHL', 'QAT', 'ROU', 'RUS', 'SAU', 'SRB', 'THA', 'TTO',\n",
      "       'TUN', 'TUR', 'UKR', 'URY', 'VNM'],\n",
      "      dtype='object', name='country')\n",
      "Countries in 1\n",
      "Index(['AUS', 'AUT', 'BEL', 'CAN', 'CYP', 'CZE', 'DNK', 'EST', 'FIN', 'GRC',\n",
      "       'HRV', 'HUN', 'IRL', 'ISL', 'ISR', 'LTU', 'LUX', 'LVA', 'NLD', 'NOR',\n",
      "       'NZL', 'POL', 'PRT', 'SGP', 'SVK', 'SVN', 'SWE'],\n",
      "      dtype='object', name='country')\n",
      "Countries in 2\n",
      "Index(['JPN', 'KOR'], dtype='object', name='country')\n",
      "Countries in 3\n",
      "Index(['CHE', 'CHN', 'DEU', 'ESP', 'FRA', 'GBR', 'ITA', 'USA'], dtype='object', name='country')\n"
     ]
    }
   ],
   "source": [
    "for i in range(0,4):\n",
    "    ccs = sub_latest[sub_latest['cluster']==i].index\n",
    "    print(f\"Countries in {i}\")\n",
    "    print(ccs)"
   ]
  },
  {
   "cell_type": "code",
   "execution_count": 8,
   "metadata": {},
   "outputs": [],
   "source": [
    "# Adding index\n",
    "sub_latest['index'] = idx_latest"
   ]
  },
  {
   "cell_type": "code",
   "execution_count": 9,
   "metadata": {},
   "outputs": [
    {
     "data": {
      "image/png": "[encoded data removed]",
      "text/plain": [
       "<Figure size 1296x720 with 6 Axes>"
      ]
     },
     "metadata": {
      "needs_background": "light"
     },
     "output_type": "display_data"
    }
   ],
   "source": [
    "# Prep Plot\n",
    "df0 = sub_latest[sub_latest['cluster']==0]\n",
    "df1 = sub_latest[sub_latest['cluster']==1]\n",
    "df2 = sub_latest[sub_latest['cluster']==2]\n",
    "df3 = sub_latest[sub_latest['cluster']==3]\n",
    "columns = ['comercial', 'culture', 'digital', 'education', 'global_reach', 'institutions']\n",
    "# Plot\n",
    "fig, ax = plt.subplots(2, 3, figsize = (18, 10))\n",
    "ids = [(0,0), (0,1), (0,2), (1,0), (1,1), (1,2)]\n",
    "for id_key, col in enumerate(columns, 0):\n",
    "    idx = ids[id_key]\n",
    "    ax[idx].plot(df0['index'], df0[col], 'o', color='red')\n",
    "    ax[idx].plot(df1['index'], df1[col], 'o', color='black')\n",
    "    ax[idx].plot(df2['index'], df2[col], 'o', color='blue')\n",
    "    ax[idx].plot(df3['index'], df3[col], 'o', color='green')\n",
    "    ax[idx].set_xlabel('Index')\n",
    "    ax[idx].set_ylabel(col)"
   ]
  },
  {
   "cell_type": "markdown",
   "metadata": {},
   "source": [
    "### Checking REER"
   ]
  },
  {
   "cell_type": "code",
   "execution_count": 10,
   "metadata": {},
   "outputs": [
    {
     "name": "stderr",
     "output_type": "stream",
     "text": [
      "/Users/talespadilha/Documents/Projects/soft_power/fx_analysis.py:33: FutureWarning: Your version of xlrd is 1.2.0. In xlrd >= 2.0, only the xls format is supported. As a result, the openpyxl engine will be used if it is installed and the engine argument is not specified. Install openpyxl instead.\n",
      "  data0 = pd.read_excel(data_path+file_name, header = [0,1], index_col = [0,1])\n"
     ]
    }
   ],
   "source": [
    "cc_dict = import_imf_dic()\n",
    "reer0 = imf_import('Raw Data/', 'reer_imf.xlsx')\n",
    "reer = reer0.rename(columns=cc_dict)\n",
    "fx_vol = reer_vol(reer)"
   ]
  },
  {
   "cell_type": "code",
   "execution_count": 17,
   "metadata": {},
   "outputs": [],
   "source": [
    "regimes = pd.read_csv('fx_regime.csv', index_col = [1])[['Regime']]\n",
    "ff = list(regimes.loc[regimes.Regime=='ff'].index)\n",
    "cl = list(regimes.loc[regimes.Regime=='cl'].index)\n",
    "all_ccs = ff"
   ]
  },
  {
   "cell_type": "code",
   "execution_count": 18,
   "metadata": {},
   "outputs": [],
   "source": [
    "plt_dict = {}\n",
    "plt_dict['fx_vol'] = fx_vol.reindex(all_ccs, axis=1)\n",
    "plt_dict['index'] = index.reindex(all_ccs, axis=1)\n",
    "plt_data = pd.concat(plt_dict, axis=1).stack(level=1).dropna()"
   ]
  },
  {
   "cell_type": "code",
   "execution_count": 19,
   "metadata": {},
   "outputs": [],
   "source": [
    "plt_data['cluster'] = np.nan\n",
    "for i in plt_data.index:\n",
    "    plt_data.loc[i, 'cluster'] = sub_latest.loc[i[1]]['cluster']"
   ]
  },
  {
   "cell_type": "code",
   "execution_count": 26,
   "metadata": {},
   "outputs": [
    {
     "data": {
      "text/plain": [
       "Text(0, 0.5, 'fx_vol')"
      ]
     },
     "execution_count": 26,
     "metadata": {},
     "output_type": "execute_result"
    },
    {
     "data": {
      "image/png": "[encoded data removed]",
      "text/plain": [
       "<Figure size 432x288 with 1 Axes>"
      ]
     },
     "metadata": {
      "needs_background": "light"
     },
     "output_type": "display_data"
    }
   ],
   "source": [
    "# Prep Plot\n",
    "df0 = plt_data[plt_data['cluster']==0]\n",
    "df1 = plt_data[plt_data['cluster']==1]\n",
    "#df2 = plt_data[plt_data['cluster']==2]\n",
    "df3 = plt_data[plt_data['cluster']==3]\n",
    "plt.scatter(df0['index'], df0.fx_vol, color='red')\n",
    "plt.scatter(df1['index'], df1.fx_vol, color='black')\n",
    "#plt.scatter(df2['index'], df2.fx_vol, color='blue')\n",
    "plt.scatter(df3['index'], df3.fx_vol, color='green')\n",
    "plt.xlabel('index')\n",
    "plt.ylabel('fx_vol')"
   ]
  },
  {
   "cell_type": "code",
   "execution_count": 21,
   "metadata": {},
   "outputs": [
    {
     "data": {
      "text/html": [
       "<div>\n",
       "<style scoped>\n",
       "    .dataframe tbody tr th:only-of-type {\n",
       "        vertical-align: middle;\n",
       "    }\n",
       "\n",
       "    .dataframe tbody tr th {\n",
       "        vertical-align: top;\n",
       "    }\n",
       "\n",
       "    .dataframe thead th {\n",
       "        text-align: right;\n",
       "    }\n",
       "</style>\n",
       "<table border=\"1\" class=\"dataframe\">\n",
       "  <thead>\n",
       "    <tr style=\"text-align: right;\">\n",
       "      <th></th>\n",
       "      <th>fx_vol</th>\n",
       "      <th>index</th>\n",
       "    </tr>\n",
       "    <tr>\n",
       "      <th>cluster</th>\n",
       "      <th></th>\n",
       "      <th></th>\n",
       "    </tr>\n",
       "  </thead>\n",
       "  <tbody>\n",
       "    <tr>\n",
       "      <th>0.0</th>\n",
       "      <td>1.612662</td>\n",
       "      <td>0.170608</td>\n",
       "    </tr>\n",
       "    <tr>\n",
       "      <th>1.0</th>\n",
       "      <td>0.804417</td>\n",
       "      <td>0.666063</td>\n",
       "    </tr>\n",
       "    <tr>\n",
       "      <th>2.0</th>\n",
       "      <td>1.625766</td>\n",
       "      <td>1.451431</td>\n",
       "    </tr>\n",
       "    <tr>\n",
       "      <th>3.0</th>\n",
       "      <td>0.700656</td>\n",
       "      <td>1.170553</td>\n",
       "    </tr>\n",
       "  </tbody>\n",
       "</table>\n",
       "</div>"
      ],
      "text/plain": [
       "           fx_vol     index\n",
       "cluster                    \n",
       "0.0      1.612662  0.170608\n",
       "1.0      0.804417  0.666063\n",
       "2.0      1.625766  1.451431\n",
       "3.0      0.700656  1.170553"
      ]
     },
     "execution_count": 21,
     "metadata": {},
     "output_type": "execute_result"
    }
   ],
   "source": [
    "plt_data.groupby('cluster').mean()."
   ]
  },
  {
   "cell_type": "code",
   "execution_count": 16,
   "metadata": {},
   "outputs": [
    {
     "data": {
      "text/html": [
       "<div>\n",
       "<style scoped>\n",
       "    .dataframe tbody tr th:only-of-type {\n",
       "        vertical-align: middle;\n",
       "    }\n",
       "\n",
       "    .dataframe tbody tr th {\n",
       "        vertical-align: top;\n",
       "    }\n",
       "\n",
       "    .dataframe thead th {\n",
       "        text-align: right;\n",
       "    }\n",
       "</style>\n",
       "<table border=\"1\" class=\"dataframe\">\n",
       "  <thead>\n",
       "    <tr style=\"text-align: right;\">\n",
       "      <th></th>\n",
       "      <th></th>\n",
       "      <th>fx_vol</th>\n",
       "      <th>index</th>\n",
       "      <th>cluster</th>\n",
       "    </tr>\n",
       "  </thead>\n",
       "  <tbody>\n",
       "    <tr>\n",
       "      <th rowspan=\"5\" valign=\"top\">2011-01-01</th>\n",
       "      <th>BRA</th>\n",
       "      <td>1.595552</td>\n",
       "      <td>0.245445</td>\n",
       "      <td>0.0</td>\n",
       "    </tr>\n",
       "    <tr>\n",
       "      <th>CHL</th>\n",
       "      <td>1.486821</td>\n",
       "      <td>0.183419</td>\n",
       "      <td>0.0</td>\n",
       "    </tr>\n",
       "    <tr>\n",
       "      <th>COL</th>\n",
       "      <td>1.394935</td>\n",
       "      <td>-0.064148</td>\n",
       "      <td>0.0</td>\n",
       "    </tr>\n",
       "    <tr>\n",
       "      <th>MLT</th>\n",
       "      <td>0.785717</td>\n",
       "      <td>0.582444</td>\n",
       "      <td>0.0</td>\n",
       "    </tr>\n",
       "    <tr>\n",
       "      <th>MEX</th>\n",
       "      <td>1.649838</td>\n",
       "      <td>0.186644</td>\n",
       "      <td>0.0</td>\n",
       "    </tr>\n",
       "    <tr>\n",
       "      <th>...</th>\n",
       "      <th>...</th>\n",
       "      <td>...</td>\n",
       "      <td>...</td>\n",
       "      <td>...</td>\n",
       "    </tr>\n",
       "    <tr>\n",
       "      <th rowspan=\"5\" valign=\"top\">2019-01-01</th>\n",
       "      <th>MDA</th>\n",
       "      <td>1.101772</td>\n",
       "      <td>-0.026830</td>\n",
       "      <td>0.0</td>\n",
       "    </tr>\n",
       "    <tr>\n",
       "      <th>PHL</th>\n",
       "      <td>0.639136</td>\n",
       "      <td>-0.151019</td>\n",
       "      <td>0.0</td>\n",
       "    </tr>\n",
       "    <tr>\n",
       "      <th>RUS</th>\n",
       "      <td>1.112506</td>\n",
       "      <td>0.635147</td>\n",
       "      <td>0.0</td>\n",
       "    </tr>\n",
       "    <tr>\n",
       "      <th>UKR</th>\n",
       "      <td>1.808938</td>\n",
       "      <td>0.122373</td>\n",
       "      <td>0.0</td>\n",
       "    </tr>\n",
       "    <tr>\n",
       "      <th>URY</th>\n",
       "      <td>1.087284</td>\n",
       "      <td>0.138650</td>\n",
       "      <td>0.0</td>\n",
       "    </tr>\n",
       "  </tbody>\n",
       "</table>\n",
       "<p>76 rows × 3 columns</p>\n",
       "</div>"
      ],
      "text/plain": [
       "                  fx_vol     index  cluster\n",
       "2011-01-01 BRA  1.595552  0.245445      0.0\n",
       "           CHL  1.486821  0.183419      0.0\n",
       "           COL  1.394935 -0.064148      0.0\n",
       "           MLT  0.785717  0.582444      0.0\n",
       "           MEX  1.649838  0.186644      0.0\n",
       "...                  ...       ...      ...\n",
       "2019-01-01 MDA  1.101772 -0.026830      0.0\n",
       "           PHL  0.639136 -0.151019      0.0\n",
       "           RUS  1.112506  0.635147      0.0\n",
       "           UKR  1.808938  0.122373      0.0\n",
       "           URY  1.087284  0.138650      0.0\n",
       "\n",
       "[76 rows x 3 columns]"
      ]
     },
     "execution_count": 16,
     "metadata": {},
     "output_type": "execute_result"
    }
   ],
   "source": [
    "plt_data.loc[plt_data['cluster']==0]"
   ]
  },
  {
   "cell_type": "code",
   "execution_count": null,
   "metadata": {},
   "outputs": [],
   "source": []
  }
 ],
 "metadata": {
  "kernelspec": {
   "display_name": "Python 3",
   "language": "python",
   "name": "python3"
  },
  "language_info": {
   "codemirror_mode": {
    "name": "ipython",
    "version": 3
   },
   "file_extension": ".py",
   "mimetype": "text/x-python",
   "name": "python",
   "nbconvert_exporter": "python",
   "pygments_lexer": "ipython3",
   "version": "3.7.9"
  }
 },
 "nbformat": 4,
 "nbformat_minor": 4
}
